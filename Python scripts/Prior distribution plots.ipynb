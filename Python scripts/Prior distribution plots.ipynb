{
 "cells": [
  {
   "cell_type": "markdown",
   "metadata": {},
   "source": [
    "# Prior distribution plots\n",
    "Illustrations of each of the extreme cases for the priors used in the CPT-model and the LML-model, respectively"
   ]
  },
  {
   "cell_type": "code",
   "execution_count": null,
   "metadata": {},
   "outputs": [],
   "source": [
    "import numpy as np\n",
    "import matplotlib.pyplot as plt\n",
    "x = np.linspace(0.001,100, 10000)"
   ]
  },
  {
   "cell_type": "code",
   "execution_count": null,
   "metadata": {},
   "outputs": [],
   "source": [
    "def log_normal_pdf(x,mu,sigma):\n",
    "    return (np.exp(-(np.log(x) - mu)**2 / (2 * sigma**2))/ (x * sigma * np.sqrt(2 * np.pi)))"
   ]
  },
  {
   "cell_type": "code",
   "execution_count": null,
   "metadata": {},
   "outputs": [],
   "source": [
    "def plot_pdf(x,mu,sigma,parameter,x_lim_r):\n",
    "    ii = 0\n",
    "    for m in mu:\n",
    "        for s in sigma:\n",
    "            ii += 1\n",
    "            pdf = log_normal_pdf(x,m,s)\n",
    "            plt.subplot(2,2,ii)\n",
    "            plt.title(f\"{parameter} with $\\\\mu$ = {m%.2f}, $\\\\sigma$ = {s}\")\n",
    "            plt.plot(x, pdf, linewidth=1, color='k')\n",
    "            plt.xlabel(parameter)    \n",
    "            plt.xlim(0,x_lim_r[ii-1])"
   ]
  },
  {
   "cell_type": "markdown",
   "metadata": {},
   "source": [
    "## CPT-model\n",
    "**Priors**\n",
    "- Sentitivity parameter: $\\beta$\n",
    "- Utility parameter: $\\alpha$\n",
    "- Elevation parameter (weightfunction): $\\delta$\n",
    "- Sensiticity parameter (weightfunction): $\\gamma$"
   ]
  },
  {
   "cell_type": "code",
   "execution_count": null,
   "metadata": {},
   "outputs": [],
   "source": [
    "#Sensitivity parameter\n",
    "mu = [-2.3,3.4]\n",
    "sigma = [0.01,1.6]\n",
    "\n",
    "ii = 0\n",
    "x_lim_r = [1,1,50,50]\n",
    "\n",
    "plt.figure(num=None, figsize=(15, 15))\n",
    "plot_pdf(x,mu,sigma,\"Sensitivity parameter\", x_lim_r)\n",
    "plt.show()"
   ]
  },
  {
   "cell_type": "code",
   "execution_count": null,
   "metadata": {},
   "outputs": [],
   "source": [
    "#Utility parameter\n",
    "mu = [-2.3,np.log(2)]\n",
    "sigma = [0.01,1.6]\n",
    "\n",
    "ii = 0\n",
    "x_lim_r = [1,1,5,5]\n",
    "\n",
    "plt.figure(num=None, figsize=(15, 15))\n",
    "plot_pdf(x,mu,sigma,\"Utility parameter\", x_lim_r)\n",
    "plt.show()"
   ]
  },
  {
   "cell_type": "code",
   "execution_count": null,
   "metadata": {},
   "outputs": [],
   "source": [
    "#Elevation parameter\n",
    "mu = [-2.3,np.log(2)]\n",
    "sigma = [0.01,1.6]\n",
    "\n",
    "ii = 0\n",
    "x_lim_r = [1,1,5,5]\n",
    "\n",
    "plt.figure(num=None, figsize=(15, 15))\n",
    "plot_pdf(x,mu,sigma,\"Elevation parameter\", x_lim_r)\n",
    "plt.show()"
   ]
  },
  {
   "cell_type": "code",
   "execution_count": null,
   "metadata": {},
   "outputs": [],
   "source": [
    "#Sensitivity parameter\n",
    "mu = [-2.3,np.log(2)]\n",
    "sigma = [0.01,1.6]\n",
    "\n",
    "ii = 0\n",
    "x_lim_r = [1,1,5,5]\n",
    "\n",
    "plt.figure(num=None, figsize=(15, 15))\n",
    "plot_pdf(x,mu,sigma,\"Sensitivity parameter\", x_lim_r)\n",
    "plt.show()"
   ]
  },
  {
   "cell_type": "markdown",
   "metadata": {},
   "source": [
    "## LML-model\n",
    "**Priors**\n",
    "- Sentitivity parameter: $\\beta$\n",
    "- Utility parameter: $\\alpha$\n",
    "- Probability distortion parameter (weightfunction): $\\delta$\n",
    "- Error distortion parameter (weightfunction): $\\gamma$"
   ]
  },
  {
   "cell_type": "code",
   "execution_count": null,
   "metadata": {},
   "outputs": [],
   "source": [
    "#Sensitivity parameter\n",
    "mu = [-2.3,3.4]\n",
    "sigma = [0.01,1.6]\n",
    "\n",
    "ii = 0\n",
    "x_lim_r = [1,1,50,50]\n",
    "\n",
    "plt.figure(num=None, figsize=(15, 15))\n",
    "plot_pdf(x,mu,sigma,\"Sensitivity parameter\", x_lim_r)\n",
    "plt.show()"
   ]
  },
  {
   "cell_type": "code",
   "execution_count": null,
   "metadata": {},
   "outputs": [],
   "source": [
    "#Utility parameter\n",
    "mu = [-2.3,np.log(2)]\n",
    "sigma = [0.01,1.6]\n",
    "\n",
    "ii = 0\n",
    "x_lim_r = [1,1,5,5]\n",
    "\n",
    "plt.figure(num=None, figsize=(15, 15))\n",
    "plot_pdf(x,mu,sigma,\"Utility parameter\", x_lim_r)\n",
    "plt.show()"
   ]
  },
  {
   "cell_type": "code",
   "execution_count": null,
   "metadata": {},
   "outputs": [],
   "source": [
    "#Elevation parameter\n",
    "mu = [-2.3,np.log(2)]\n",
    "sigma = [0.01,1.6]\n",
    "\n",
    "ii = 0\n",
    "x_lim_r = [1,1,5,5]\n",
    "\n",
    "plt.figure(num=None, figsize=(15, 15))\n",
    "plot_pdf(x,mu,sigma,\"Elevation parameter\", x_lim_r)\n",
    "plt.show()"
   ]
  },
  {
   "cell_type": "code",
   "execution_count": null,
   "metadata": {},
   "outputs": [],
   "source": [
    "#Elevation parameter\n",
    "mu = [-2.3,np.log(2)]\n",
    "sigma = [0.01,1.6]\n",
    "\n",
    "ii = 0\n",
    "x_lim_r = [1,1,5,5]\n",
    "\n",
    "plt.figure(num=None, figsize=(15, 15))\n",
    "plot_pdf(x,mu,sigma,\"Elevation parameter\", x_lim_r)\n",
    "plt.show()"
   ]
  }
 ],
 "metadata": {
  "kernelspec": {
   "display_name": "Python 3",
   "language": "python",
   "name": "python3"
  },
  "language_info": {
   "codemirror_mode": {
    "name": "ipython",
    "version": 3
   },
   "file_extension": ".py",
   "mimetype": "text/x-python",
   "name": "python",
   "nbconvert_exporter": "python",
   "pygments_lexer": "ipython3",
   "version": "3.7.1"
  }
 },
 "nbformat": 4,
 "nbformat_minor": 2
}
