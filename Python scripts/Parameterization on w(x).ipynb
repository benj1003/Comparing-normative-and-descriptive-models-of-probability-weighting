{
 "cells": [
  {
   "cell_type": "markdown",
   "metadata": {},
   "source": [
    "# Investigation of different parameterizations of w(x)\n",
    "In this notebook I investigate the inpact different parametrizations has on w(x) presented by Peters et al. (2020)\n",
    "\n",
    "\\begin{align}\n",
    "w(x) &= \\frac{\\hat{p}(x) + \\varepsilon[\\hat{p}(x)]}{\\int_{-\\infty}^\\infty \\hat{p}(s) + \\varepsilon[\\hat{p}(s)] ds}  \\\\ \\\\\n",
    "     &  = \\frac{\\frac{n(x)}{T} + \\sqrt{\\frac{n(x)}{T^2}}}{\\int_{-\\infty}^\\infty \\frac{n(s)}{T} + \\sqrt{\\frac{n(s)}{T^2}} ds}\n",
    "\\end{align}"
   ]
  },
  {
   "cell_type": "markdown",
   "metadata": {},
   "source": [
    "I investigate multiple different parameterizations, but would like to end up with one that (as CPT) has two parameters: \n",
    "- a sensitivity parameter; and \n",
    "- a elevation parameter"
   ]
  },
  {
   "cell_type": "code",
   "execution_count": 1,
   "metadata": {},
   "outputs": [],
   "source": [
    "# %matplotlib notebook\n",
    "# from ipywidgets import *\n",
    "import math\n",
    "import matplotlib.pyplot as plt\n",
    "import numpy as np"
   ]
  },
  {
   "cell_type": "code",
   "execution_count": 43,
   "metadata": {},
   "outputs": [],
   "source": [
    "def we(n,T,par=\"none\", delta=1,gamma=1):\n",
    "    n2 = T-n\n",
    "    if par==\"1\":\n",
    "        n = n*delta\n",
    "        n2 = n2*delta\n",
    "    elif par==\"2\":\n",
    "        n=n*delta\n",
    "        n2=n2*delta\n",
    "        T=T*gamma\n",
    "    #Estimating w for outcome \n",
    "    p =  n/T\n",
    "    error = math.sqrt(p/T)\n",
    "    \n",
    "    if par==\"3\":\n",
    "        p = p*delta\n",
    "        error = error*gamma\n",
    "    \n",
    "    w = p+error\n",
    "    \n",
    "    #Estimating w for 1-outcome\n",
    "    p2 = n2/T\n",
    "    error2 = math.sqrt(p2/T)\n",
    "    \n",
    "    if par==\"3\":\n",
    "        p2 = p2*delta\n",
    "        error2 = error2*gamma\n",
    "    \n",
    "    w2 = p2 + error2\n",
    "    \n",
    "    #Normalizing\n",
    "    w_norm = w/(w+w2)\n",
    "    w2_norm = w2/(w+w2)\n",
    "    print(w_norm)\n",
    "    print(w2_norm)\n",
    "\n",
    "    return w_norm, p"
   ]
  },
  {
   "cell_type": "code",
   "execution_count": 44,
   "metadata": {},
   "outputs": [
    {
     "name": "stdout",
     "output_type": "stream",
     "text": [
      "0.0\n",
      "1.0\n",
      "-0.11909309449683965\n",
      "1.1190930944968396\n",
      "-0.003866846887247477\n",
      "1.0038668468872474\n",
      "0.17551642876111725\n",
      "0.8244835712388827\n",
      "0.3882778981095924\n",
      "0.6117221018904075\n",
      "0.6117221018904075\n",
      "0.3882778981095924\n",
      "0.8244835712388827\n",
      "0.17551642876111723\n",
      "1.0038668468872476\n",
      "-0.003866846887247554\n",
      "1.1190930944968396\n",
      "-0.11909309449683969\n",
      "1.0\n",
      "0.0\n"
     ]
    },
    {
     "data": {
      "image/png": "[encoded data removed]",
      "text/plain": [
       "<Figure size 432x288 with 1 Axes>"
      ]
     },
     "metadata": {
      "needs_background": "light"
     },
     "output_type": "display_data"
    }
   ],
   "source": [
    "T = 10\n",
    "N = 10\n",
    "delta = 1\n",
    "x = np.linspace(0,T,N)\n",
    "x1 = np.linspace(0,1,N)\n",
    "weight = []\n",
    "p = []\n",
    "for n in x:\n",
    "    w_tmp, p_tmp = we(n,T,par=\"3\", delta=1, gamma=-1.5)\n",
    "    weight.append(w_tmp)\n",
    "    p.append(p_tmp)\n",
    "\n",
    "fig = plt.figure()\n",
    "ax = fig.add_subplot(1, 1, 1)\n",
    "line, = ax.plot(x1, weight, label='w(x)')\n",
    "line, = ax.plot(x1, x1, label='p(x)')\n",
    "ax.legend()\n",
    "plt.show()"
   ]
  },
  {
   "cell_type": "code",
   "execution_count": 26,
   "metadata": {},
   "outputs": [
    {
     "data": {
      "text/plain": [
       "[0.0,\n",
       " 0.19526214587563498,\n",
       " 0.2947437085514174,\n",
       " 0.38042684413094985,\n",
       " 0.46065533708336837,\n",
       " 0.5393446629166316,\n",
       " 0.6195731558690502,\n",
       " 0.7052562914485825,\n",
       " 0.804737854124365,\n",
       " 1.0]"
      ]
     },
     "execution_count": 26,
     "metadata": {},
     "output_type": "execute_result"
    }
   ],
   "source": [
    "weight"
   ]
  },
  {
   "cell_type": "code",
   "execution_count": 28,
   "metadata": {},
   "outputs": [
    {
     "data": {
      "text/plain": [
       "[0.0,\n",
       " 0.18769982433812873,\n",
       " 0.28842159384092136,\n",
       " 0.37638496736923394,\n",
       " 0.45927360170508624,\n",
       " 0.5407263982949136,\n",
       " 0.6236150326307661,\n",
       " 0.7115784061590785,\n",
       " 0.8123001756618712,\n",
       " 1.0]"
      ]
     },
     "execution_count": 28,
     "metadata": {},
     "output_type": "execute_result"
    }
   ],
   "source": [
    "weight"
   ]
  },
  {
   "cell_type": "code",
   "execution_count": 30,
   "metadata": {},
   "outputs": [
    {
     "data": {
      "text/plain": [
       "[0.0,\n",
       " 0.20768986700327588,\n",
       " 0.30505275472146876,\n",
       " 0.38699213417696554,\n",
       " 0.46289590834552896,\n",
       " 0.537104091654471,\n",
       " 0.6130078658230345,\n",
       " 0.6949472452785311,\n",
       " 0.792310132996724,\n",
       " 1.0]"
      ]
     },
     "execution_count": 30,
     "metadata": {},
     "output_type": "execute_result"
    }
   ],
   "source": [
    "weight"
   ]
  }
 ],
 "metadata": {
  "kernelspec": {
   "display_name": "Python 3",
   "language": "python",
   "name": "python3"
  },
  "language_info": {
   "codemirror_mode": {
    "name": "ipython",
    "version": 3
   },
   "file_extension": ".py",
   "mimetype": "text/x-python",
   "name": "python",
   "nbconvert_exporter": "python",
   "pygments_lexer": "ipython3",
   "version": "3.7.1"
  }
 },
 "nbformat": 4,
 "nbformat_minor": 2
}
