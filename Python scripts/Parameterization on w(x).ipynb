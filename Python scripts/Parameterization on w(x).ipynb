{
 "cells": [
  {
   "cell_type": "markdown",
   "metadata": {},
   "source": [
    "# Investigation of different parameterizations of w(x)\n",
    "In this notebook I investigate the inpact different parametrizations has on w(x) presented by Peters et al. (2020)\n",
    "\n",
    "\\begin{align}\n",
    "w(x) &= \\frac{\\hat{p}(x) + \\varepsilon[\\hat{p}(x)]}{\\int_{-\\infty}^\\infty \\hat{p}(s) + \\varepsilon[\\hat{p}(s)] ds}  \\\\ \\\\\n",
    "     &  = \\frac{\\frac{n(x)}{T} + \\sqrt{\\frac{n(x)}{T^2}}}{\\int_{-\\infty}^\\infty \\frac{n(s)}{T} + \\sqrt{\\frac{n(s)}{T^2}} ds}\n",
    "\\end{align}"
   ]
  },
  {
   "cell_type": "markdown",
   "metadata": {},
   "source": [
    "I investigate multiple different parameterizations, but would like to end up with one that (as CPT) has two parameters: \n",
    "- a sensitivity parameter; and \n",
    "- a elevation parameter"
   ]
  },
  {
   "cell_type": "code",
   "execution_count": 3,
   "metadata": {},
   "outputs": [],
   "source": [
    "# %matplotlib notebook\n",
    "# from ipywidgets import *\n",
    "import math\n",
    "import matplotlib.pyplot as plt\n",
    "import numpy as np"
   ]
  },
  {
   "cell_type": "code",
   "execution_count": 14,
   "metadata": {},
   "outputs": [],
   "source": [
    "def we(n,T,par=\"none\", delta=1,gamma=1):\n",
    "    n2 = T-n\n",
    "    if par==\"1\":\n",
    "        n = n*delta\n",
    "        n2 = n2*delta\n",
    "    elif par==\"2\":\n",
    "        n=n*delta\n",
    "        n2=n2*delta\n",
    "        T=T*gamma\n",
    "    #Estimating w for outcome \n",
    "    p =  n/T\n",
    "    error = math.sqrt(p/T)\n",
    "    \n",
    "    if par==\"3\":\n",
    "        p = p*delta\n",
    "        error = error*gamma\n",
    "    \n",
    "    w = p+error\n",
    "    \n",
    "    #Estimating w for 1-outcome\n",
    "    p2 = n2/T\n",
    "    error2 = math.sqrt(p2/T)\n",
    "    \n",
    "    if par==\"3\":\n",
    "        p2 = p2\n",
    "        error2 = delta*error2**gamma\n",
    "    \n",
    "    w2 = p2 + error2\n",
    "    \n",
    "    #Normalizing\n",
    "    w_norm = w/(w+w2)\n",
    "    w2_norm = w2/(w+w2)\n",
    "#     print(w_norm)\n",
    "#     print(w2_norm)\n",
    "\n",
    "    return w_norm, p, error2"
   ]
  },
  {
   "cell_type": "code",
   "execution_count": 52,
   "metadata": {},
   "outputs": [],
   "source": [
    "def we(n,T,delta,gamma):\n",
    "    n2 = T-n\n",
    "    \n",
    "    #Setting params\n",
    "    p = n/T\n",
    "    error = math.sqrt(p/T)\n",
    "    \n",
    "    p2 = n2/T\n",
    "    error2 = math.sqrt(p2/T)\n",
    "    \n",
    "    #introducing the parameters\n",
    "    p = p\n",
    "    p2 = p2\n",
    "    \n",
    "    error = delta*error**gamma\n",
    "    error2 = delta*error2**gamma\n",
    "    \n",
    "#     Calculating w \n",
    "    w = p + error\n",
    "    \n",
    "    w2 = p2 + error2\n",
    "    \n",
    "    #Normalizing\n",
    "    w_norm = w/(w+w2)\n",
    "    w2_norm = w2/(w+w2)\n",
    "    \n",
    "    return w_norm, p, error, w, w2"
   ]
  },
  {
   "cell_type": "code",
   "execution_count": 61,
   "metadata": {},
   "outputs": [
    {
     "data": {
      "image/png": "[encoded data removed]",
      "text/plain": [
       "<Figure size 432x288 with 1 Axes>"
      ]
     },
     "metadata": {
      "needs_background": "light"
     },
     "output_type": "display_data"
    }
   ],
   "source": [
    "T = 10\n",
    "N = 10\n",
    "delta = 1\n",
    "x = np.linspace(0,T,N)\n",
    "x1 = np.linspace(0,1,N)\n",
    "weight = []\n",
    "p = []\n",
    "w = []\n",
    "w2 = []\n",
    "error = []\n",
    "for n in x:\n",
    "    w_tmp, p_tmp, error_tmp, wn_tmp, w2_tmp = we(n,T,delta=-1, gamma=0.5)\n",
    "    weight.append(w_tmp)\n",
    "    p.append(p_tmp)\n",
    "    error.append(error_tmp)\n",
    "    w.append(wn_tmp)\n",
    "    w2.append(w2_tmp)\n",
    "\n",
    "fig = plt.figure()\n",
    "ax = fig.add_subplot(1, 1, 1)\n",
    "line, = ax.plot(x1, weight, label='w(x)')\n",
    "line, = ax.plot(x1, x1, label='p(x)')\n",
    "ax.legend()\n",
    "plt.show()"
   ]
  },
  {
   "cell_type": "code",
   "execution_count": 59,
   "metadata": {},
   "outputs": [
    {
     "data": {
      "text/plain": [
       "[0.0,\n",
       " 5.4982796571508215e-11,\n",
       " 2.0923498523387143e-09,\n",
       " 1.758382742371335e-08,\n",
       " 7.96235946072349e-08,\n",
       " 2.5693268075418474e-07,\n",
       " 6.691460058003164e-07,\n",
       " 1.5031126698542526e-06,\n",
       " 3.030046247328515e-06,\n",
       " 5.623413251903492e-06]"
      ]
     },
     "execution_count": 59,
     "metadata": {},
     "output_type": "execute_result"
    }
   ],
   "source": [
    "error"
   ]
  },
  {
   "cell_type": "code",
   "execution_count": 55,
   "metadata": {},
   "outputs": [
    {
     "data": {
      "text/plain": [
       "[1.1778279410038923,\n",
       " 1.0516818445104315,\n",
       " 0.9250570562697152,\n",
       " 0.797865978084362,\n",
       " 0.6699870635503955,\n",
       " 0.5412417149931747,\n",
       " 0.41134491064402384,\n",
       " 0.27977822364691884,\n",
       " 0.1453341143137891,\n",
       " 0.0]"
      ]
     },
     "execution_count": 55,
     "metadata": {},
     "output_type": "execute_result"
    }
   ],
   "source": [
    "w2"
   ]
  },
  {
   "cell_type": "code",
   "execution_count": 48,
   "metadata": {},
   "outputs": [
    {
     "data": {
      "text/plain": [
       "0.9401433734784015"
      ]
     },
     "execution_count": 48,
     "metadata": {},
     "output_type": "execute_result"
    }
   ],
   "source": [
    "1.1778279410038923 / (1.1778279410038923+0.07498942093324559)"
   ]
  }
 ],
 "metadata": {
  "kernelspec": {
   "display_name": "Python 3",
   "language": "python",
   "name": "python3"
  },
  "language_info": {
   "codemirror_mode": {
    "name": "ipython",
    "version": 3
   },
   "file_extension": ".py",
   "mimetype": "text/x-python",
   "name": "python",
   "nbconvert_exporter": "python",
   "pygments_lexer": "ipython3",
   "version": "3.7.1"
  }
 },
 "nbformat": 4,
 "nbformat_minor": 2
}
