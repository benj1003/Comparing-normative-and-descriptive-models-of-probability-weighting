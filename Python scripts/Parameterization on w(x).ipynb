{
 "cells": [
  {
   "cell_type": "markdown",
   "metadata": {},
   "source": [
    "# Investigation of different parameterizations of w(x)\n",
    "In this notebook I investigate the inpact different parametrizations has on w(x) presented by Peters et al. (2020)\n",
    "\n",
    "\\begin{align}\n",
    "w(x) &= \\frac{\\hat{p}(x) + \\varepsilon[\\hat{p}(x)]}{\\int_{-\\infty}^\\infty \\hat{p}(s) + \\varepsilon[\\hat{p}(s)] ds}  \\\\ \\\\\n",
    "     &  = \\frac{\\frac{n(x)}{T} + \\sqrt{\\frac{n(x)}{T^2}}}{\\int_{-\\infty}^\\infty \\frac{n(s)}{T} + \\sqrt{\\frac{n(s)}{T^2}} ds}\n",
    "\\end{align}"
   ]
  },
  {
   "cell_type": "markdown",
   "metadata": {},
   "source": [
    "I investigate multiple different parameterizations, but would like to end up with one that (as CPT) has two parameters: \n",
    "- a sensitivity parameter; and \n",
    "- a elevation parameter"
   ]
  },
  {
   "cell_type": "code",
   "execution_count": 1,
   "metadata": {},
   "outputs": [],
   "source": [
    "# %matplotlib notebook\n",
    "# from ipywidgets import *\n",
    "import math\n",
    "import matplotlib.pyplot as plt\n",
    "import numpy as np"
   ]
  },
  {
   "cell_type": "code",
   "execution_count": 68,
   "metadata": {},
   "outputs": [],
   "source": [
    "def we(n,T,par=\"none\", delta=1,gamma=1):\n",
    "    if par==\"1\":\n",
    "        n = n*delta\n",
    "    elif par==\"2\":\n",
    "        n=n*delta\n",
    "        T=T*gamma\n",
    "    #Estimating w for outcome \n",
    "    p =  n/T\n",
    "    error = math.sqrt(p/T)\n",
    "    \n",
    "    if par==\"3\":\n",
    "        p = p*delta\n",
    "        error = error*gamma\n",
    "    \n",
    "    w = p+error\n",
    "    \n",
    "    #Estimating w for 1-outcome\n",
    "    p2 = (T-n)/T\n",
    "    error2 = math.sqrt(p2/T)\n",
    "    \n",
    "    if par==\"3\":\n",
    "        p2 = p2*delta\n",
    "        error2 = error2*gamma\n",
    "    \n",
    "    w2 = p2 + error2\n",
    "    \n",
    "    #Normalizing\n",
    "    w_norm = w/(w+w2)\n",
    "    w2_norm = w2/(w+w2)\n",
    "#     print(w_norm)\n",
    "#     print(w2_norm)\n",
    "\n",
    "    return w_norm, p"
   ]
  },
  {
   "cell_type": "code",
   "execution_count": null,
   "metadata": {},
   "outputs": [],
   "source": []
  },
  {
   "cell_type": "code",
   "execution_count": null,
   "metadata": {},
   "outputs": [],
   "source": [
    "\n",
    "w = []\n",
    "p = []\n",
    "x = np.linspace(0,T,N)\n",
    "for n in x:\n",
    "    w_tmp, p_tmp = we(n,T)\n",
    "    w.append(w_tmp)\n",
    "    p.append(p_tmp)"
   ]
  },
  {
   "cell_type": "code",
   "execution_count": null,
   "metadata": {},
   "outputs": [],
   "source": [
    "plt.figure()\n",
    "plt.plot(p,w, label='w(x)')\n",
    "plt.plot(p,p, label='p(x)')\n",
    "plt.legend()\n",
    "plt.show()"
   ]
  },
  {
   "cell_type": "code",
   "execution_count": 74,
   "metadata": {},
   "outputs": [
    {
     "data": {
      "image/png": "[encoded data removed]",
      "text/plain": [
       "<Figure size 432x288 with 1 Axes>"
      ]
     },
     "metadata": {
      "needs_background": "light"
     },
     "output_type": "display_data"
    }
   ],
   "source": [
    "T = 1\n",
    "N = 100\n",
    "delta = 1\n",
    "x = np.linspace(0,T,N)\n",
    "weight = []\n",
    "p = []\n",
    "for n in x:\n",
    "    w_tmp, p_tmp = we(n,T,par=\"3\", delta=2, gamma=0.5)\n",
    "    weight.append(w_tmp)\n",
    "    p.append(p_tmp)\n",
    "\n",
    "fig = plt.figure()\n",
    "ax = fig.add_subplot(1, 1, 1)\n",
    "line, = ax.plot(x, weight, label='w(x)')\n",
    "line, = ax.plot(x, x, label='p(x)')\n",
    "ax.legend()\n",
    "plt.show()"
   ]
  }
 ],
 "metadata": {
  "kernelspec": {
   "display_name": "Python 3",
   "language": "python",
   "name": "python3"
  },
  "language_info": {
   "codemirror_mode": {
    "name": "ipython",
    "version": 3
   },
   "file_extension": ".py",
   "mimetype": "text/x-python",
   "name": "python",
   "nbconvert_exporter": "python",
   "pygments_lexer": "ipython3",
   "version": "3.7.1"
  }
 },
 "nbformat": 4,
 "nbformat_minor": 2
}
